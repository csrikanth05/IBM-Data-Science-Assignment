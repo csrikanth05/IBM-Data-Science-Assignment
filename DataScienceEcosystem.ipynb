{
 "cells": [
  {
   "cell_type": "markdown",
   "id": "3d2dd30a-881a-45cc-8e90-fc9946d2ae1f",
   "metadata": {},
   "source": [
    "# Data Science Tools and Ecosystem"
   ]
  },
  {
   "cell_type": "markdown",
   "id": "ff9d0084-7d88-4f80-a9d6-1c4a9cfa39d3",
   "metadata": {},
   "source": [
    "## In this notebook, Data Science Tools and Ecosystem are summarized.\n"
   ]
  },
  {
   "cell_type": "markdown",
   "id": "3c94e6b0-4f94-409c-8857-1320b8c2694d",
   "metadata": {},
   "source": [
    "**Objectives:**\n",
    "- List popular languages for Data Science\n",
    "- List commonly used libraries used by Data Scientists\n",
    "- Tabulate popular tools used by Data Scientists\n",
    "- Perform and evaluate simple arithmetic expressions using Python\n",
    "- Write code for converting hours to minutes and displaying the results\n"
   ]
  },
  {
   "cell_type": "markdown",
   "id": "dd78ca10-af36-4d08-9eaf-b2761476bfd6",
   "metadata": {},
   "source": [
    "## Some of the popular languages that Data Scientists use are:\n",
    "1. Python\n",
    "2. R\n",
    "3. Javascript\n",
    "4. SQL"
   ]
  },
  {
   "cell_type": "markdown",
   "id": "e882d036-e7f8-453d-a57a-2213a078360f",
   "metadata": {},
   "source": [
    "## Some of the commonly used libraries used by Data Scientists include:\n",
    "1. Numpy\n",
    "2. Pandas\n",
    "3. Matplotlib\n",
    "4. Scikit-Learn"
   ]
  },
  {
   "cell_type": "markdown",
   "id": "802b11eb-25b3-4da2-98f5-244b0bf04d31",
   "metadata": {},
   "source": [
    "| Data Science Tools |\n",
    "| ------------------ |\n",
    "| Jupyter Notebook   |\n",
    "| RStudio            |\n",
    "| Apache             |\n"
   ]
  },
  {
   "cell_type": "markdown",
   "id": "6f97a74e-8eb8-4d66-a1d3-eb5614a91c24",
   "metadata": {},
   "source": [
    "### Below are a few examples of evaluating arithmetic expressions in Python.\n"
   ]
  },
  {
   "cell_type": "code",
   "execution_count": 6,
   "id": "4d95f21a-5004-487d-894e-849fc11a9453",
   "metadata": {},
   "outputs": [
    {
     "data": {
      "text/plain": [
       "17"
      ]
     },
     "execution_count": 6,
     "metadata": {},
     "output_type": "execute_result"
    }
   ],
   "source": [
    "(3*4)+5\n",
    "# This is a simple arithmetic expression to multiply then add integers.\n"
   ]
  },
  {
   "cell_type": "code",
   "execution_count": 7,
   "id": "df7f0808-81e9-4873-97f4-a8b21dad8f6b",
   "metadata": {},
   "outputs": [
    {
     "name": "stdout",
     "output_type": "stream",
     "text": [
      "200 minutes is 3.33 hours\n"
     ]
    }
   ],
   "source": [
    "def convert_to_hrs(minutes):\n",
    "    return minutes/60\n",
    "\n",
    "hours = convert_to_hrs(200)\n",
    "print(f\"200 minutes is {hours:.2f} hours\")\n",
    "\n",
    "# This will convert 200 minutes to hours by diving by 60"
   ]
  },
  {
   "cell_type": "markdown",
   "id": "a47444db-f9a0-40f7-a17a-45ad9024b0fa",
   "metadata": {},
   "source": [
    "## Author\n",
    "Srikanth Chandrasekaran"
   ]
  },
  {
   "cell_type": "code",
   "execution_count": null,
   "id": "fe6222c4-356e-47a5-a568-7e2ff414fde9",
   "metadata": {},
   "outputs": [],
   "source": []
  }
 ],
 "metadata": {
  "kernelspec": {
   "display_name": "Python 3 (ipykernel)",
   "language": "python",
   "name": "python3"
  },
  "language_info": {
   "codemirror_mode": {
    "name": "ipython",
    "version": 3
   },
   "file_extension": ".py",
   "mimetype": "text/x-python",
   "name": "python",
   "nbconvert_exporter": "python",
   "pygments_lexer": "ipython3",
   "version": "3.11.9"
  }
 },
 "nbformat": 4,
 "nbformat_minor": 5
}
